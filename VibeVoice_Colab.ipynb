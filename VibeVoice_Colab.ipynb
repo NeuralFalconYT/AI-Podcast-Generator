{
  "nbformat": 4,
  "nbformat_minor": 0,
  "metadata": {
    "colab": {
      "provenance": [],
      "gpuType": "T4"
    },
    "kernelspec": {
      "name": "python3",
      "display_name": "Python 3"
    },
    "language_info": {
      "name": "python"
    },
    "accelerator": "GPU"
  },
  "cells": [
    {
      "cell_type": "markdown",
      "source": [
        "\n",
        "# VibeVoice Colab\n",
        "### 🏷️ **Credits & License**\n",
        "\n",
        "* 🔗 [VibeVoice GitHub Repository](https://github.com/microsoft/VibeVoice)\n",
        "* 🤗 [VibeVoice on Hugging Face](https://huggingface.co/microsoft/VibeVoice-1.5B)\n",
        "* 📄 **License**: Provided under the [MIT License](https://github.com/microsoft/VibeVoice/blob/main/LICENSE)\n",
        "\n",
        "### ⚠️ **Usage Disclaimer**\n",
        "\n",
        "This tool enables **AI-generated podcast creation** using cloned voices. While it can be a powerful resource for storytelling, education, and creative projects, it also carries risks if misused. By using this tool, you agree to the following guidelines:\n",
        "\n",
        "* **No Misrepresentation**: Do not use cloned voices to impersonate real people or mislead listeners into believing AI-generated voices are authentic recordings without disclosure.\n",
        "* **Transparency**: Clearly disclose when podcast content has been generated with AI, including synthetic voices or AI-written scripts.\n",
        "* **No Harmful Content**: Do not produce or distribute content that promotes hate, harassment, misinformation, defamation, or any form of harmful/deceptive material.\n",
        "* **Legal Compliance**: Ensure all use of this tool complies with copyright laws, data protection regulations, and all applicable legal and ethical standards.\n",
        "* **Respect for Consent**: Do not replicate or publish anyone’s voice without explicit permission.\n",
        "\n",
        "> ⚖️ **Legal Responsibility**\n",
        "\n",
        "> The developers of this tool disclaim all liability for misuse. **Users bear full responsibility** for ensuring that their usage complies with all applicable laws, regulations, and ethical guidelines.\n",
        "\n"
      ],
      "metadata": {
        "id": "xP2o9tdKh0X4"
      }
    },
    {
      "cell_type": "code",
      "source": [
        "# @title Install VibeVoice\n",
        "\n",
        "%cd /content/\n",
        "!git clone https://github.com/microsoft/VibeVoice.git\n",
        "\n",
        "# (Optional) If you experience compatibility issues with the latest version, you can use a pinned fork instead:\n",
        "# !git clone https://github.com/NeuralFalconYT/VibeVoice.git\n",
        "\n",
        "# Download colab.py\n",
        "%cd /content/VibeVoice/demo\n",
        "!wget https://raw.githubusercontent.com/NeuralFalconYT/VibeVoice/refs/heads/main/demo/colab.py\n",
        "\n",
        "# Return to the project root\n",
        "%cd /content/VibeVoice/\n",
        "!pip install -e .\n",
        "\n",
        "# !pip install pydub>=0.25.1\n",
        "\n",
        "from IPython.display import clear_output\n",
        "clear_output()\n"
      ],
      "metadata": {
        "cellView": "form",
        "id": "QBpsjY7CXmqc"
      },
      "execution_count": null,
      "outputs": []
    },
    {
      "cell_type": "code",
      "source": [
        "#@title Automatically save podcast to your Google Drive [Optional]\n",
        "Enable_Drive_Save= False  # @param {type: \"boolean\"}\n",
        "if Enable_Drive_Save:\n",
        "  from google.colab import drive\n",
        "  drive.mount('/content/gdrive/')\n",
        "\n"
      ],
      "metadata": {
        "colab": {
          "base_uri": "https://localhost:8080/"
        },
        "id": "aWmH2WeZX3CA",
        "outputId": "0b14eaa7-b1c7-4b52-992d-fb8d45d3eb51",
        "cellView": "form"
      },
      "execution_count": null,
      "outputs": [
        {
          "output_type": "stream",
          "name": "stdout",
          "text": [
            "Mounted at /content/gdrive/\n"
          ]
        }
      ]
    },
    {
      "cell_type": "code",
      "source": [
        "#@title Run VibeVoice Podcast\n",
        "!python /content/VibeVoice/demo/colab.py --model_path microsoft/VibeVoice-1.5B --inference_steps 10 --debug --share"
      ],
      "metadata": {
        "id": "1VSytP-9YMYa",
        "cellView": "form"
      },
      "execution_count": null,
      "outputs": []
    }
  ]
}